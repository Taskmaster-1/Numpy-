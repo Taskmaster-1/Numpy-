{
 "cells": [
  {
   "cell_type": "code",
   "execution_count": 3,
   "id": "307105e8",
   "metadata": {},
   "outputs": [
    {
     "name": "stdout",
     "output_type": "stream",
     "text": [
      "Requirement already satisfied: numpy in c:\\users\\dell\\anaconda3\\lib\\site-packages (1.24.3)\n"
     ]
    }
   ],
   "source": [
    "!pip install numpy"
   ]
  },
  {
   "cell_type": "code",
   "execution_count": 4,
   "id": "8aa52bfb",
   "metadata": {},
   "outputs": [],
   "source": [
    "import numpy as np"
   ]
  },
  {
   "cell_type": "code",
   "execution_count": 5,
   "id": "daec73e2",
   "metadata": {},
   "outputs": [
    {
     "name": "stdout",
     "output_type": "stream",
     "text": [
      "[1 2 3 4]\n"
     ]
    }
   ],
   "source": [
    "n = np.array((1,2,3,4))\n",
    "print(n)"
   ]
  },
  {
   "cell_type": "code",
   "execution_count": 6,
   "id": "3e516431",
   "metadata": {},
   "outputs": [
    {
     "name": "stdout",
     "output_type": "stream",
     "text": [
      "<class 'numpy.ndarray'>\n"
     ]
    }
   ],
   "source": [
    "print(type(n))"
   ]
  },
  {
   "cell_type": "code",
   "execution_count": 7,
   "id": "8cb1b7a9",
   "metadata": {},
   "outputs": [
    {
     "data": {
      "text/plain": [
       "dtype('int32')"
      ]
     },
     "execution_count": 7,
     "metadata": {},
     "output_type": "execute_result"
    }
   ],
   "source": [
    "n.dtype"
   ]
  },
  {
   "cell_type": "code",
   "execution_count": 8,
   "id": "30ee4459",
   "metadata": {},
   "outputs": [],
   "source": [
    "a = np.array([[1, 2, 3],[4,5,6]])"
   ]
  },
  {
   "cell_type": "code",
   "execution_count": 9,
   "id": "7ff09327",
   "metadata": {},
   "outputs": [
    {
     "data": {
      "text/plain": [
       "2"
      ]
     },
     "execution_count": 9,
     "metadata": {},
     "output_type": "execute_result"
    }
   ],
   "source": [
    "a.ndim"
   ]
  },
  {
   "cell_type": "code",
   "execution_count": 11,
   "id": "46a92169",
   "metadata": {},
   "outputs": [
    {
     "data": {
      "text/plain": [
       "3"
      ]
     },
     "execution_count": 11,
     "metadata": {},
     "output_type": "execute_result"
    }
   ],
   "source": [
    "a[0,2]"
   ]
  },
  {
   "cell_type": "code",
   "execution_count": 12,
   "id": "fc2013ca",
   "metadata": {},
   "outputs": [],
   "source": [
    "b = np.array([[1,2,3,4],[5,6,7,8],[2,6,9,1]])"
   ]
  },
  {
   "cell_type": "code",
   "execution_count": 13,
   "id": "65b95015",
   "metadata": {},
   "outputs": [
    {
     "data": {
      "text/plain": [
       "2"
      ]
     },
     "execution_count": 13,
     "metadata": {},
     "output_type": "execute_result"
    }
   ],
   "source": [
    "b.ndim"
   ]
  },
  {
   "cell_type": "code",
   "execution_count": 14,
   "id": "65fe7d40",
   "metadata": {},
   "outputs": [
    {
     "data": {
      "text/plain": [
       "1"
      ]
     },
     "execution_count": 14,
     "metadata": {},
     "output_type": "execute_result"
    }
   ],
   "source": [
    "b[2,3]"
   ]
  },
  {
   "cell_type": "code",
   "execution_count": 15,
   "id": "1c4a3f32",
   "metadata": {},
   "outputs": [
    {
     "data": {
      "text/plain": [
       "9"
      ]
     },
     "execution_count": 15,
     "metadata": {},
     "output_type": "execute_result"
    }
   ],
   "source": [
    "b[-1,2]"
   ]
  },
  {
   "cell_type": "code",
   "execution_count": 26,
   "id": "dbaa9302",
   "metadata": {},
   "outputs": [],
   "source": [
    "c = np.array([[[1,2,3],[5,6,7],[0,0,-1]],[[-1,-2,-3],[-4,-5,-6],[0,0,1]]])"
   ]
  },
  {
   "cell_type": "code",
   "execution_count": 27,
   "id": "248ed07e",
   "metadata": {},
   "outputs": [
    {
     "data": {
      "text/plain": [
       "3"
      ]
     },
     "execution_count": 27,
     "metadata": {},
     "output_type": "execute_result"
    }
   ],
   "source": [
    "c.ndim"
   ]
  },
  {
   "cell_type": "code",
   "execution_count": 28,
   "id": "9f5ff858",
   "metadata": {},
   "outputs": [
    {
     "data": {
      "text/plain": [
       "-3"
      ]
     },
     "execution_count": 28,
     "metadata": {},
     "output_type": "execute_result"
    }
   ],
   "source": [
    "c[1,0,2]"
   ]
  },
  {
   "cell_type": "code",
   "execution_count": 29,
   "id": "67d17e7b",
   "metadata": {},
   "outputs": [
    {
     "data": {
      "text/plain": [
       "numpy.ndarray"
      ]
     },
     "execution_count": 29,
     "metadata": {},
     "output_type": "execute_result"
    }
   ],
   "source": [
    "type(c)"
   ]
  },
  {
   "cell_type": "code",
   "execution_count": 30,
   "id": "71fa3fbe",
   "metadata": {},
   "outputs": [
    {
     "data": {
      "text/plain": [
       "2"
      ]
     },
     "execution_count": 30,
     "metadata": {},
     "output_type": "execute_result"
    }
   ],
   "source": [
    "c.shape[0]"
   ]
  },
  {
   "cell_type": "code",
   "execution_count": 31,
   "id": "972679ba",
   "metadata": {},
   "outputs": [
    {
     "data": {
      "text/plain": [
       "3"
      ]
     },
     "execution_count": 31,
     "metadata": {},
     "output_type": "execute_result"
    }
   ],
   "source": [
    "c.shape[1]"
   ]
  },
  {
   "cell_type": "code",
   "execution_count": 32,
   "id": "51df852b",
   "metadata": {},
   "outputs": [
    {
     "data": {
      "text/plain": [
       "3"
      ]
     },
     "execution_count": 32,
     "metadata": {},
     "output_type": "execute_result"
    }
   ],
   "source": [
    "c.shape[2]"
   ]
  },
  {
   "cell_type": "code",
   "execution_count": 33,
   "id": "d0fddecc",
   "metadata": {},
   "outputs": [
    {
     "data": {
      "text/plain": [
       "18"
      ]
     },
     "execution_count": 33,
     "metadata": {},
     "output_type": "execute_result"
    }
   ],
   "source": [
    "c.size"
   ]
  },
  {
   "cell_type": "code",
   "execution_count": 34,
   "id": "eb7570e1",
   "metadata": {},
   "outputs": [
    {
     "data": {
      "text/plain": [
       "72"
      ]
     },
     "execution_count": 34,
     "metadata": {},
     "output_type": "execute_result"
    }
   ],
   "source": [
    "c.nbytes"
   ]
  },
  {
   "cell_type": "code",
   "execution_count": 36,
   "id": "b3d10bfc",
   "metadata": {},
   "outputs": [],
   "source": [
    "A = np.arange(100)"
   ]
  },
  {
   "cell_type": "code",
   "execution_count": 37,
   "id": "98e8285c",
   "metadata": {},
   "outputs": [
    {
     "name": "stdout",
     "output_type": "stream",
     "text": [
      "[ 0  1  2  3  4  5  6  7  8  9 10 11 12 13 14 15 16 17 18 19 20 21 22 23\n",
      " 24 25 26 27 28 29 30 31 32 33 34 35 36 37 38 39 40 41 42 43 44 45 46 47\n",
      " 48 49 50 51 52 53 54 55 56 57 58 59 60 61 62 63 64 65 66 67 68 69 70 71\n",
      " 72 73 74 75 76 77 78 79 80 81 82 83 84 85 86 87 88 89 90 91 92 93 94 95\n",
      " 96 97 98 99]\n"
     ]
    }
   ],
   "source": [
    "print(A)"
   ]
  },
  {
   "cell_type": "code",
   "execution_count": 43,
   "id": "764fcdcc",
   "metadata": {},
   "outputs": [],
   "source": [
    "B = np.arange(20,41,3) # for i in range(20,41,3)"
   ]
  },
  {
   "cell_type": "code",
   "execution_count": 44,
   "id": "acbe8374",
   "metadata": {},
   "outputs": [
    {
     "name": "stdout",
     "output_type": "stream",
     "text": [
      "[20 23 26 29 32 35 38]\n"
     ]
    }
   ],
   "source": [
    "print(B)"
   ]
  },
  {
   "cell_type": "code",
   "execution_count": 45,
   "id": "02dcdc94",
   "metadata": {},
   "outputs": [
    {
     "name": "stdout",
     "output_type": "stream",
     "text": [
      "range(0, 10)\n"
     ]
    }
   ],
   "source": [
    "print(range(10))"
   ]
  },
  {
   "cell_type": "code",
   "execution_count": 46,
   "id": "0e522576",
   "metadata": {},
   "outputs": [
    {
     "name": "stdout",
     "output_type": "stream",
     "text": [
      "[0, 1, 2, 3, 4, 5, 6, 7, 8, 9]\n"
     ]
    }
   ],
   "source": [
    "print(list(range(10)))"
   ]
  },
  {
   "cell_type": "code",
   "execution_count": 47,
   "id": "f7418231",
   "metadata": {},
   "outputs": [
    {
     "name": "stdout",
     "output_type": "stream",
     "text": [
      "[6 7 4 5 1 0 9 8 2 3]\n"
     ]
    }
   ],
   "source": [
    "A = np.random.permutation(np.arange(10))\n",
    "print(A)"
   ]
  },
  {
   "cell_type": "code",
   "execution_count": 51,
   "id": "8e2a71ed",
   "metadata": {},
   "outputs": [
    {
     "name": "stdout",
     "output_type": "stream",
     "text": [
      "58\n"
     ]
    }
   ],
   "source": [
    "v = np.random.randint(20,80)\n",
    "print(v)"
   ]
  },
  {
   "cell_type": "code",
   "execution_count": 52,
   "id": "b02ebdba",
   "metadata": {},
   "outputs": [
    {
     "data": {
      "text/plain": [
       "int"
      ]
     },
     "execution_count": 52,
     "metadata": {},
     "output_type": "execute_result"
    }
   ],
   "source": [
    "type(v)"
   ]
  },
  {
   "cell_type": "code",
   "execution_count": 62,
   "id": "50931667",
   "metadata": {},
   "outputs": [],
   "source": [
    "S = np.random.rand(100)"
   ]
  },
  {
   "cell_type": "code",
   "execution_count": 63,
   "id": "01829b3a",
   "metadata": {},
   "outputs": [],
   "source": [
    "  import matplotlib.pyplot as plt"
   ]
  },
  {
   "cell_type": "code",
   "execution_count": 64,
   "id": "6215ae15",
   "metadata": {},
   "outputs": [
    {
     "data": {
      "text/plain": [
       "(array([11., 10., 14.,  9., 12.,  9.,  9., 12.,  8.,  6.]),\n",
       " array([0.01285077, 0.11066618, 0.20848158, 0.30629699, 0.4041124 ,\n",
       "        0.5019278 , 0.59974321, 0.69755862, 0.79537402, 0.89318943,\n",
       "        0.99100484]),\n",
       " <BarContainer object of 10 artists>)"
      ]
     },
     "execution_count": 64,
     "metadata": {},
     "output_type": "execute_result"
    },
    {
     "data": {
      "image/png": "[encoded data removed]",
      "text/plain": [
       "<Figure size 640x480 with 1 Axes>"
      ]
     },
     "metadata": {},
     "output_type": "display_data"
    }
   ],
   "source": [
    "plt.hist(S)"
   ]
  },
  {
   "cell_type": "code",
   "execution_count": 65,
   "id": "4061ee71",
   "metadata": {},
   "outputs": [
    {
     "data": {
      "text/plain": [
       "(array([ 1.,  0.,  0.,  0.,  0.,  0.,  0.,  0.,  0.,  0.,  1.,  0.,  1.,\n",
       "         2.,  0.,  0.,  0.,  0.,  1.,  0.,  1.,  1.,  1.,  2.,  0.,  0.,\n",
       "         0.,  3.,  2.,  2.,  1.,  2.,  2.,  0.,  0.,  1.,  2.,  1.,  2.,\n",
       "         5.,  0.,  1.,  2.,  1.,  0.,  5.,  2.,  1.,  2.,  2.,  1.,  2.,\n",
       "         3.,  5.,  6.,  4.,  4.,  3.,  9.,  4.,  4.,  3.,  4.,  3.,  5.,\n",
       "         7.,  6.,  7., 10.,  5.,  7., 11.,  6.,  9.,  9.,  8., 13., 10.,\n",
       "        13.,  9., 11.,  2.,  8., 12., 24., 13., 16.,  7., 14., 19., 11.,\n",
       "        12., 12., 15., 12., 13.,  8., 13., 12., 15., 13., 11., 12., 18.,\n",
       "        11., 10., 16., 14., 15., 19., 12.,  5.,  8.,  8., 13.,  7.,  9.,\n",
       "        15., 13.,  7., 11., 10.,  7., 15.,  7.,  6.,  6., 11.,  7.,  7.,\n",
       "         7.,  7.,  7.,  8.,  6., 12.,  2., 13.,  5., 12., 10.,  3.,  5.,\n",
       "         6.,  8.,  1.,  4.,  8.,  1.,  2.,  4.,  4.,  3.,  3.,  4.,  5.,\n",
       "         3.,  3.,  4.,  3.,  1.,  1.,  1.,  2.,  1.,  0.,  1.,  1.,  1.,\n",
       "         1.,  1.,  3.,  1.,  0.,  0.,  1.,  1.,  1.,  2.,  0.,  1.,  1.,\n",
       "         1.,  0.,  0.,  0.,  0.,  0.,  0.,  0.,  0.,  0.,  0.,  0.,  0.,\n",
       "         0.,  1.,  0.,  0.,  1.]),\n",
       " array([-3.29037347, -3.25831011, -3.22624676, -3.1941834 , -3.16212005,\n",
       "        -3.13005669, -3.09799334, -3.06592998, -3.03386663, -3.00180327,\n",
       "        -2.96973992, -2.93767656, -2.90561321, -2.87354986, -2.8414865 ,\n",
       "        -2.80942315, -2.77735979, -2.74529644, -2.71323308, -2.68116973,\n",
       "        -2.64910637, -2.61704302, -2.58497966, -2.55291631, -2.52085295,\n",
       "        -2.4887896 , -2.45672624, -2.42466289, -2.39259953, -2.36053618,\n",
       "        -2.32847282, -2.29640947, -2.26434611, -2.23228276, -2.2002194 ,\n",
       "        -2.16815605, -2.13609269, -2.10402934, -2.07196598, -2.03990263,\n",
       "        -2.00783927, -1.97577592, -1.94371256, -1.91164921, -1.87958585,\n",
       "        -1.8475225 , -1.81545914, -1.78339579, -1.75133243, -1.71926908,\n",
       "        -1.68720572, -1.65514237, -1.62307901, -1.59101566, -1.5589523 ,\n",
       "        -1.52688895, -1.49482559, -1.46276224, -1.43069888, -1.39863553,\n",
       "        -1.36657218, -1.33450882, -1.30244547, -1.27038211, -1.23831876,\n",
       "        -1.2062554 , -1.17419205, -1.14212869, -1.11006534, -1.07800198,\n",
       "        -1.04593863, -1.01387527, -0.98181192, -0.94974856, -0.91768521,\n",
       "        -0.88562185, -0.8535585 , -0.82149514, -0.78943179, -0.75736843,\n",
       "        -0.72530508, -0.69324172, -0.66117837, -0.62911501, -0.59705166,\n",
       "        -0.5649883 , -0.53292495, -0.50086159, -0.46879824, -0.43673488,\n",
       "        -0.40467153, -0.37260817, -0.34054482, -0.30848146, -0.27641811,\n",
       "        -0.24435475, -0.2122914 , -0.18022804, -0.14816469, -0.11610133,\n",
       "        -0.08403798, -0.05197462, -0.01991127,  0.01215209,  0.04421544,\n",
       "         0.07627879,  0.10834215,  0.1404055 ,  0.17246886,  0.20453221,\n",
       "         0.23659557,  0.26865892,  0.30072228,  0.33278563,  0.36484899,\n",
       "         0.39691234,  0.4289757 ,  0.46103905,  0.49310241,  0.52516576,\n",
       "         0.55722912,  0.58929247,  0.62135583,  0.65341918,  0.68548254,\n",
       "         0.71754589,  0.74960925,  0.7816726 ,  0.81373596,  0.84579931,\n",
       "         0.87786267,  0.90992602,  0.94198938,  0.97405273,  1.00611609,\n",
       "         1.03817944,  1.0702428 ,  1.10230615,  1.13436951,  1.16643286,\n",
       "         1.19849622,  1.23055957,  1.26262293,  1.29468628,  1.32674964,\n",
       "         1.35881299,  1.39087635,  1.4229397 ,  1.45500306,  1.48706641,\n",
       "         1.51912976,  1.55119312,  1.58325647,  1.61531983,  1.64738318,\n",
       "         1.67944654,  1.71150989,  1.74357325,  1.7756366 ,  1.80769996,\n",
       "         1.83976331,  1.87182667,  1.90389002,  1.93595338,  1.96801673,\n",
       "         2.00008009,  2.03214344,  2.0642068 ,  2.09627015,  2.12833351,\n",
       "         2.16039686,  2.19246022,  2.22452357,  2.25658693,  2.28865028,\n",
       "         2.32071364,  2.35277699,  2.38484035,  2.4169037 ,  2.44896706,\n",
       "         2.48103041,  2.51309377,  2.54515712,  2.57722048,  2.60928383,\n",
       "         2.64134719,  2.67341054,  2.7054739 ,  2.73753725,  2.76960061,\n",
       "         2.80166396,  2.83372732,  2.86579067,  2.89785403,  2.92991738,\n",
       "         2.96198074,  2.99404409,  3.02610744,  3.0581708 ,  3.09023415,\n",
       "         3.12229751]),\n",
       " <BarContainer object of 200 artists>)"
      ]
     },
     "execution_count": 65,
     "metadata": {},
     "output_type": "execute_result"
    },
    {
     "data": {
      "image/png": "[encoded data removed]",
      "text/plain": [
       "<Figure size 640x480 with 1 Axes>"
      ]
     },
     "metadata": {},
     "output_type": "display_data"
    }
   ],
   "source": [
    "D = np.random.randn(1000)\n",
    "plt.hist(D,bins=200)"
   ]
  },
  {
   "cell_type": "code",
   "execution_count": 67,
   "id": "06a6bb85",
   "metadata": {},
   "outputs": [
    {
     "data": {
      "text/plain": [
       "array([[0.02795308, 0.95717148, 0.46388683],\n",
       "       [0.81598238, 0.53200467, 0.5470974 ]])"
      ]
     },
     "execution_count": 67,
     "metadata": {},
     "output_type": "execute_result"
    }
   ],
   "source": [
    "X = np.random.rand(2,3)\n",
    "X"
   ]
  },
  {
   "cell_type": "code",
   "execution_count": 68,
   "id": "175d711f",
   "metadata": {},
   "outputs": [
    {
     "data": {
      "text/plain": [
       "2"
      ]
     },
     "execution_count": 68,
     "metadata": {},
     "output_type": "execute_result"
    }
   ],
   "source": [
    "X.ndim"
   ]
  },
  {
   "cell_type": "code",
   "execution_count": 69,
   "id": "b4227595",
   "metadata": {},
   "outputs": [
    {
     "data": {
      "text/plain": [
       "array([[[[8.87424540e-01, 5.94913579e-01],\n",
       "         [5.52613045e-01, 3.26747497e-02],\n",
       "         [9.35824258e-01, 3.05439760e-01],\n",
       "         [7.30998100e-01, 1.23816936e-01]],\n",
       "\n",
       "        [[5.43153257e-01, 7.97090149e-01],\n",
       "         [4.60493382e-01, 1.92084393e-01],\n",
       "         [9.78333695e-01, 7.17015984e-01],\n",
       "         [5.27181462e-01, 4.73568816e-01]],\n",
       "\n",
       "        [[6.55753249e-01, 1.58929259e-01],\n",
       "         [5.72572637e-01, 4.07418842e-01],\n",
       "         [7.83639968e-01, 8.67290309e-01],\n",
       "         [4.02562279e-01, 5.72305788e-01]]],\n",
       "\n",
       "\n",
       "       [[[9.72813709e-03, 3.54321843e-01],\n",
       "         [7.21667116e-01, 3.22833956e-01],\n",
       "         [4.14306836e-01, 4.87545529e-04],\n",
       "         [4.32985776e-01, 3.15103756e-01]],\n",
       "\n",
       "        [[3.17426549e-01, 4.90331837e-01],\n",
       "         [6.17962484e-01, 9.84964934e-01],\n",
       "         [4.53579476e-01, 3.98089853e-01],\n",
       "         [4.32264119e-02, 8.42490424e-01]],\n",
       "\n",
       "        [[6.39872418e-01, 5.91628914e-01],\n",
       "         [9.37066120e-02, 8.64482086e-01],\n",
       "         [7.22981465e-01, 8.37979336e-01],\n",
       "         [5.16468246e-01, 2.58377876e-01]]]])"
      ]
     },
     "execution_count": 69,
     "metadata": {},
     "output_type": "execute_result"
    }
   ],
   "source": [
    "x = np.random.rand(2,3,4,2)\n",
    "x"
   ]
  },
  {
   "cell_type": "markdown",
   "id": "db7fe379",
   "metadata": {},
   "source": [
    "#### There are 2 arrays that are 3 dimensional Each 3 dimensional array has 3 two dimensional arrays So each 2 dimensional array has 4  one dimensional array and each 1 dimensional array has 2 elements in it !"
   ]
  },
  {
   "cell_type": "code",
   "execution_count": 70,
   "id": "296dce19",
   "metadata": {},
   "outputs": [
    {
     "data": {
      "text/plain": [
       "4"
      ]
     },
     "execution_count": 70,
     "metadata": {},
     "output_type": "execute_result"
    }
   ],
   "source": [
    "x.ndim"
   ]
  },
  {
   "cell_type": "code",
   "execution_count": 71,
   "id": "f7a91d2e",
   "metadata": {},
   "outputs": [],
   "source": [
    "Q = np.arange(100).reshape(4,25)"
   ]
  },
  {
   "cell_type": "code",
   "execution_count": 72,
   "id": "acf5cd23",
   "metadata": {},
   "outputs": [
    {
     "data": {
      "text/plain": [
       "(4, 25)"
      ]
     },
     "execution_count": 72,
     "metadata": {},
     "output_type": "execute_result"
    }
   ],
   "source": [
    "Q.shape"
   ]
  },
  {
   "cell_type": "code",
   "execution_count": 73,
   "id": "33ebf8f1",
   "metadata": {},
   "outputs": [
    {
     "data": {
      "text/plain": [
       "array([[ 0,  1,  2,  3,  4,  5,  6,  7,  8,  9, 10, 11, 12, 13, 14, 15,\n",
       "        16, 17, 18, 19, 20, 21, 22, 23, 24],\n",
       "       [25, 26, 27, 28, 29, 30, 31, 32, 33, 34, 35, 36, 37, 38, 39, 40,\n",
       "        41, 42, 43, 44, 45, 46, 47, 48, 49],\n",
       "       [50, 51, 52, 53, 54, 55, 56, 57, 58, 59, 60, 61, 62, 63, 64, 65,\n",
       "        66, 67, 68, 69, 70, 71, 72, 73, 74],\n",
       "       [75, 76, 77, 78, 79, 80, 81, 82, 83, 84, 85, 86, 87, 88, 89, 90,\n",
       "        91, 92, 93, 94, 95, 96, 97, 98, 99]])"
      ]
     },
     "execution_count": 73,
     "metadata": {},
     "output_type": "execute_result"
    }
   ],
   "source": [
    "Q"
   ]
  },
  {
   "cell_type": "code",
   "execution_count": 74,
   "id": "79e357a9",
   "metadata": {},
   "outputs": [
    {
     "data": {
      "text/plain": [
       "2"
      ]
     },
     "execution_count": 74,
     "metadata": {},
     "output_type": "execute_result"
    }
   ],
   "source": [
    "Q.ndim"
   ]
  },
  {
   "cell_type": "code",
   "execution_count": 75,
   "id": "df8c928a",
   "metadata": {},
   "outputs": [],
   "source": [
    "np.zeros?"
   ]
  },
  {
   "cell_type": "code",
   "execution_count": 76,
   "id": "395a37da",
   "metadata": {},
   "outputs": [],
   "source": [
    "np.ones?"
   ]
  },
  {
   "cell_type": "code",
   "execution_count": 84,
   "id": "e2f2beca",
   "metadata": {},
   "outputs": [],
   "source": [
    "np.random?"
   ]
  },
  {
   "cell_type": "code",
   "execution_count": 90,
   "id": "72d31b14",
   "metadata": {},
   "outputs": [],
   "source": [
    "A = np.arange(100)"
   ]
  },
  {
   "cell_type": "code",
   "execution_count": 91,
   "id": "07489260",
   "metadata": {},
   "outputs": [
    {
     "name": "stdout",
     "output_type": "stream",
     "text": [
      "[3 4 5 6 7 8 9]\n"
     ]
    }
   ],
   "source": [
    "b = A[3:10]\n",
    "print(b)"
   ]
  },
  {
   "cell_type": "code",
   "execution_count": 92,
   "id": "2ac64b40",
   "metadata": {},
   "outputs": [
    {
     "data": {
      "text/plain": [
       "array([-1200,     4,     5,     6,     7,     8,     9])"
      ]
     },
     "execution_count": 92,
     "metadata": {},
     "output_type": "execute_result"
    }
   ],
   "source": [
    "b[0] = -1200\n",
    "b"
   ]
  },
  {
   "cell_type": "code",
   "execution_count": 93,
   "id": "078cd0c6",
   "metadata": {},
   "outputs": [
    {
     "data": {
      "text/plain": [
       "array([    0,     1,     2, -1200,     4,     5,     6,     7,     8,\n",
       "           9,    10,    11,    12,    13,    14,    15,    16,    17,\n",
       "          18,    19,    20,    21,    22,    23,    24,    25,    26,\n",
       "          27,    28,    29,    30,    31,    32,    33,    34,    35,\n",
       "          36,    37,    38,    39,    40,    41,    42,    43,    44,\n",
       "          45,    46,    47,    48,    49,    50,    51,    52,    53,\n",
       "          54,    55,    56,    57,    58,    59,    60,    61,    62,\n",
       "          63,    64,    65,    66,    67,    68,    69,    70,    71,\n",
       "          72,    73,    74,    75,    76,    77,    78,    79,    80,\n",
       "          81,    82,    83,    84,    85,    86,    87,    88,    89,\n",
       "          90,    91,    92,    93,    94,    95,    96,    97,    98,\n",
       "          99])"
      ]
     },
     "execution_count": 93,
     "metadata": {},
     "output_type": "execute_result"
    }
   ],
   "source": [
    "A"
   ]
  },
  {
   "cell_type": "code",
   "execution_count": 94,
   "id": "c8da77d7",
   "metadata": {},
   "outputs": [
    {
     "data": {
      "text/plain": [
       "array([ 0,  5, 10, 15, 20, 25, 30, 35, 40, 45, 50, 55, 60, 65, 70, 75, 80,\n",
       "       85, 90, 95])"
      ]
     },
     "execution_count": 94,
     "metadata": {},
     "output_type": "execute_result"
    }
   ],
   "source": [
    "A[::5]"
   ]
  },
  {
   "cell_type": "code",
   "execution_count": 95,
   "id": "5f74644f",
   "metadata": {},
   "outputs": [
    {
     "data": {
      "text/plain": [
       "array([99, 94, 89, 84, 79, 74, 69, 64, 59, 54, 49, 44, 39, 34, 29, 24, 19,\n",
       "       14,  9,  4])"
      ]
     },
     "execution_count": 95,
     "metadata": {},
     "output_type": "execute_result"
    }
   ],
   "source": [
    "A[::-5]"
   ]
  },
  {
   "cell_type": "code",
   "execution_count": 96,
   "id": "c695a456",
   "metadata": {},
   "outputs": [
    {
     "data": {
      "text/plain": [
       "array([   99,    98,    97,    96,    95,    94,    93,    92,    91,\n",
       "          90,    89,    88,    87,    86,    85,    84,    83,    82,\n",
       "          81,    80,    79,    78,    77,    76,    75,    74,    73,\n",
       "          72,    71,    70,    69,    68,    67,    66,    65,    64,\n",
       "          63,    62,    61,    60,    59,    58,    57,    56,    55,\n",
       "          54,    53,    52,    51,    50,    49,    48,    47,    46,\n",
       "          45,    44,    43,    42,    41,    40,    39,    38,    37,\n",
       "          36,    35,    34,    33,    32,    31,    30,    29,    28,\n",
       "          27,    26,    25,    24,    23,    22,    21,    20,    19,\n",
       "          18,    17,    16,    15,    14,    13,    12,    11,    10,\n",
       "           9,     8,     7,     6,     5,     4, -1200,     2,     1,\n",
       "           0])"
      ]
     },
     "execution_count": 96,
     "metadata": {},
     "output_type": "execute_result"
    }
   ],
   "source": [
    "A[::-1]"
   ]
  },
  {
   "cell_type": "code",
   "execution_count": 100,
   "id": "80a3b329",
   "metadata": {},
   "outputs": [
    {
     "data": {
      "text/plain": [
       "3"
      ]
     },
     "execution_count": 100,
     "metadata": {},
     "output_type": "execute_result"
    }
   ],
   "source": [
    "idx = np.argwhere(A==-1200)[0][0]\n",
    "idx"
   ]
  },
  {
   "cell_type": "code",
   "execution_count": 101,
   "id": "f34f4b26",
   "metadata": {},
   "outputs": [],
   "source": [
    "A[idx] = 3"
   ]
  },
  {
   "cell_type": "code",
   "execution_count": 102,
   "id": "8fbc3f55",
   "metadata": {},
   "outputs": [
    {
     "data": {
      "text/plain": [
       "array([ 0,  1,  2,  3,  4,  5,  6,  7,  8,  9, 10, 11, 12, 13, 14, 15, 16,\n",
       "       17, 18, 19, 20, 21, 22, 23, 24, 25, 26, 27, 28, 29, 30, 31, 32, 33,\n",
       "       34, 35, 36, 37, 38, 39, 40, 41, 42, 43, 44, 45, 46, 47, 48, 49, 50,\n",
       "       51, 52, 53, 54, 55, 56, 57, 58, 59, 60, 61, 62, 63, 64, 65, 66, 67,\n",
       "       68, 69, 70, 71, 72, 73, 74, 75, 76, 77, 78, 79, 80, 81, 82, 83, 84,\n",
       "       85, 86, 87, 88, 89, 90, 91, 92, 93, 94, 95, 96, 97, 98, 99])"
      ]
     },
     "execution_count": 102,
     "metadata": {},
     "output_type": "execute_result"
    }
   ],
   "source": [
    "A"
   ]
  },
  {
   "cell_type": "code",
   "execution_count": 103,
   "id": "a6a207e9",
   "metadata": {},
   "outputs": [],
   "source": [
    "A = np.round(10*np.random.rand(5,4))"
   ]
  },
  {
   "cell_type": "code",
   "execution_count": 104,
   "id": "1600d9a0",
   "metadata": {},
   "outputs": [
    {
     "data": {
      "text/plain": [
       "array([[ 0.,  1.,  1.,  7.],\n",
       "       [ 5.,  1.,  7.,  4.],\n",
       "       [10., 10.,  2.,  8.],\n",
       "       [ 6.,  8.,  8.,  5.],\n",
       "       [ 8.,  1.,  8.,  7.]])"
      ]
     },
     "execution_count": 104,
     "metadata": {},
     "output_type": "execute_result"
    }
   ],
   "source": [
    "A"
   ]
  },
  {
   "cell_type": "code",
   "execution_count": 105,
   "id": "bba47203",
   "metadata": {},
   "outputs": [
    {
     "data": {
      "text/plain": [
       "7.0"
      ]
     },
     "execution_count": 105,
     "metadata": {},
     "output_type": "execute_result"
    }
   ],
   "source": [
    "A[1,2]"
   ]
  },
  {
   "cell_type": "code",
   "execution_count": 106,
   "id": "1f274ed3",
   "metadata": {},
   "outputs": [
    {
     "data": {
      "text/plain": [
       "array([ 1.,  1., 10.,  8.,  1.])"
      ]
     },
     "execution_count": 106,
     "metadata": {},
     "output_type": "execute_result"
    }
   ],
   "source": [
    "A[:,1]"
   ]
  },
  {
   "cell_type": "code",
   "execution_count": 107,
   "id": "635cbf87",
   "metadata": {},
   "outputs": [
    {
     "data": {
      "text/plain": [
       "array([5., 1., 7., 4.])"
      ]
     },
     "execution_count": 107,
     "metadata": {},
     "output_type": "execute_result"
    }
   ],
   "source": [
    "A[1,:]"
   ]
  },
  {
   "cell_type": "code",
   "execution_count": 108,
   "id": "8ca5c468",
   "metadata": {},
   "outputs": [
    {
     "data": {
      "text/plain": [
       "array([[7., 4.],\n",
       "       [2., 8.]])"
      ]
     },
     "execution_count": 108,
     "metadata": {},
     "output_type": "execute_result"
    }
   ],
   "source": [
    "A[1:3,2:4]"
   ]
  },
  {
   "cell_type": "code",
   "execution_count": 109,
   "id": "b5094110",
   "metadata": {},
   "outputs": [
    {
     "data": {
      "text/plain": [
       "array([[ 0.,  5., 10.,  6.,  8.],\n",
       "       [ 1.,  1., 10.,  8.,  1.],\n",
       "       [ 1.,  7.,  2.,  8.,  8.],\n",
       "       [ 7.,  4.,  8.,  5.,  7.]])"
      ]
     },
     "execution_count": 109,
     "metadata": {},
     "output_type": "execute_result"
    }
   ],
   "source": [
    "A.T"
   ]
  },
  {
   "cell_type": "code",
   "execution_count": 110,
   "id": "eb080836",
   "metadata": {},
   "outputs": [],
   "source": [
    "import numpy.linalg as la"
   ]
  },
  {
   "cell_type": "code",
   "execution_count": 111,
   "id": "51c9b652",
   "metadata": {},
   "outputs": [
    {
     "data": {
      "text/plain": [
       "array([[-0.68032894,  0.80198307,  0.34339216],\n",
       "       [ 0.79213263, -4.1445425 ,  3.89474952],\n",
       "       [ 0.42569593,  3.95839442, -3.92414246]])"
      ]
     },
     "execution_count": 111,
     "metadata": {},
     "output_type": "execute_result"
    }
   ],
   "source": [
    "la.inv(np.random.rand(3,3))"
   ]
  },
  {
   "cell_type": "code",
   "execution_count": 112,
   "id": "5eedff5a",
   "metadata": {},
   "outputs": [
    {
     "data": {
      "text/plain": [
       "array([[ 0.,  1.,  1.,  7.],\n",
       "       [ 5.,  1.,  7.,  4.],\n",
       "       [10., 10.,  2.,  8.],\n",
       "       [ 6.,  8.,  8.,  5.],\n",
       "       [ 8.,  1.,  8.,  7.]])"
      ]
     },
     "execution_count": 112,
     "metadata": {},
     "output_type": "execute_result"
    }
   ],
   "source": [
    "A"
   ]
  },
  {
   "cell_type": "code",
   "execution_count": 113,
   "id": "27fd69ac",
   "metadata": {},
   "outputs": [],
   "source": [
    "A.sort(axis=0)"
   ]
  },
  {
   "cell_type": "code",
   "execution_count": 114,
   "id": "50f83a47",
   "metadata": {},
   "outputs": [
    {
     "data": {
      "text/plain": [
       "array([[ 0.,  1.,  1.,  4.],\n",
       "       [ 5.,  1.,  2.,  5.],\n",
       "       [ 6.,  1.,  7.,  7.],\n",
       "       [ 8.,  8.,  8.,  7.],\n",
       "       [10., 10.,  8.,  8.]])"
      ]
     },
     "execution_count": 114,
     "metadata": {},
     "output_type": "execute_result"
    }
   ],
   "source": [
    "A"
   ]
  },
  {
   "cell_type": "code",
   "execution_count": 115,
   "id": "f96a3cf5",
   "metadata": {},
   "outputs": [],
   "source": [
    "A.sort(axis=1)"
   ]
  },
  {
   "cell_type": "code",
   "execution_count": 116,
   "id": "8f039949",
   "metadata": {},
   "outputs": [
    {
     "data": {
      "text/plain": [
       "array([[ 0.,  1.,  1.,  4.],\n",
       "       [ 1.,  2.,  5.,  5.],\n",
       "       [ 1.,  6.,  7.,  7.],\n",
       "       [ 7.,  8.,  8.,  8.],\n",
       "       [ 8.,  8., 10., 10.]])"
      ]
     },
     "execution_count": 116,
     "metadata": {},
     "output_type": "execute_result"
    }
   ],
   "source": [
    "A"
   ]
  },
  {
   "cell_type": "code",
   "execution_count": 2,
   "id": "08233cf8",
   "metadata": {},
   "outputs": [],
   "source": [
    "import numpy as np"
   ]
  },
  {
   "cell_type": "code",
   "execution_count": 3,
   "id": "7ff04c01",
   "metadata": {},
   "outputs": [
    {
     "data": {
      "text/plain": [
       "array([[8., 2., 0.],\n",
       "       [4., 2., 2.]])"
      ]
     },
     "execution_count": 3,
     "metadata": {},
     "output_type": "execute_result"
    }
   ],
   "source": [
    "A = np.round(10*np.random.rand(2,3))\n",
    "A"
   ]
  },
  {
   "cell_type": "code",
   "execution_count": 4,
   "id": "3e3f1080",
   "metadata": {},
   "outputs": [
    {
     "data": {
      "text/plain": [
       "array([[11.,  5.,  3.],\n",
       "       [ 7.,  5.,  5.]])"
      ]
     },
     "execution_count": 4,
     "metadata": {},
     "output_type": "execute_result"
    }
   ],
   "source": [
    "A + 3"
   ]
  },
  {
   "cell_type": "code",
   "execution_count": 5,
   "id": "0dda1105",
   "metadata": {},
   "outputs": [
    {
     "data": {
      "text/plain": [
       "array([[8., 2., 0.],\n",
       "       [5., 3., 3.]])"
      ]
     },
     "execution_count": 5,
     "metadata": {},
     "output_type": "execute_result"
    }
   ],
   "source": [
    "A + np.arange(2).reshape(2,1)"
   ]
  },
  {
   "cell_type": "code",
   "execution_count": 6,
   "id": "7eeb2ce8",
   "metadata": {},
   "outputs": [
    {
     "data": {
      "text/plain": [
       "array([[8., 5.],\n",
       "       [4., 5.]])"
      ]
     },
     "execution_count": 6,
     "metadata": {},
     "output_type": "execute_result"
    }
   ],
   "source": [
    "B = np.round(10*np.random.rand(2,2))\n",
    "B"
   ]
  },
  {
   "cell_type": "code",
   "execution_count": 7,
   "id": "78de32ea",
   "metadata": {},
   "outputs": [
    {
     "data": {
      "text/plain": [
       "array([[8., 2., 0.],\n",
       "       [4., 2., 2.]])"
      ]
     },
     "execution_count": 7,
     "metadata": {},
     "output_type": "execute_result"
    }
   ],
   "source": [
    "A"
   ]
  },
  {
   "cell_type": "code",
   "execution_count": 8,
   "id": "4c1ae8c7",
   "metadata": {},
   "outputs": [
    {
     "data": {
      "text/plain": [
       "array([[8., 2., 0., 8., 5.],\n",
       "       [4., 2., 2., 4., 5.]])"
      ]
     },
     "execution_count": 8,
     "metadata": {},
     "output_type": "execute_result"
    }
   ],
   "source": [
    "C = np.hstack((A,B))\n",
    "C"
   ]
  },
  {
   "cell_type": "code",
   "execution_count": 9,
   "id": "257bd28c",
   "metadata": {},
   "outputs": [
    {
     "data": {
      "text/plain": [
       "array([1, 5, 9, 8, 0, 3, 7, 2, 6, 4])"
      ]
     },
     "execution_count": 9,
     "metadata": {},
     "output_type": "execute_result"
    }
   ],
   "source": [
    "A = np.random.permutation(np.arange(10))\n",
    "A"
   ]
  },
  {
   "cell_type": "code",
   "execution_count": 10,
   "id": "eb33109d",
   "metadata": {},
   "outputs": [
    {
     "data": {
      "text/plain": [
       "array([0, 1, 2, 3, 4, 5, 6, 7, 8, 9])"
      ]
     },
     "execution_count": 10,
     "metadata": {},
     "output_type": "execute_result"
    }
   ],
   "source": [
    "A.sort()\n",
    "A"
   ]
  },
  {
   "cell_type": "code",
   "execution_count": 11,
   "id": "4001cee8",
   "metadata": {},
   "outputs": [
    {
     "data": {
      "text/plain": [
       "array([0, 1, 2, 3, 4, 5, 6, 7, 8, 9])"
      ]
     },
     "execution_count": 11,
     "metadata": {},
     "output_type": "execute_result"
    }
   ],
   "source": [
    "np.sort(A)"
   ]
  },
  {
   "cell_type": "code",
   "execution_count": 12,
   "id": "d68e224b",
   "metadata": {},
   "outputs": [
    {
     "data": {
      "text/plain": [
       "array([9, 8, 7, 6, 5, 4, 3, 2, 1, 0])"
      ]
     },
     "execution_count": 12,
     "metadata": {},
     "output_type": "execute_result"
    }
   ],
   "source": [
    "A.sort()\n",
    "A[::-1]"
   ]
  },
  {
   "cell_type": "code",
   "execution_count": 13,
   "id": "de7b44af",
   "metadata": {},
   "outputs": [],
   "source": [
    "A = np.array([\"abc\", \"how are you\", \"u776\", \"13er\"])\n",
    "A.sort()"
   ]
  },
  {
   "cell_type": "code",
   "execution_count": 14,
   "id": "54b564e2",
   "metadata": {},
   "outputs": [
    {
     "data": {
      "text/plain": [
       "array(['13er', 'abc', 'how are you', 'u776'], dtype='<U11')"
      ]
     },
     "execution_count": 14,
     "metadata": {},
     "output_type": "execute_result"
    }
   ],
   "source": [
    "A"
   ]
  },
  {
   "cell_type": "markdown",
   "id": "372bfe17",
   "metadata": {},
   "source": [
    "# Speed: Ufuncs (universal functions)"
   ]
  },
  {
   "cell_type": "code",
   "execution_count": 15,
   "id": "18d7e3ab",
   "metadata": {},
   "outputs": [
    {
     "name": "stdout",
     "output_type": "stream",
     "text": [
      "61.4 ms ± 4.1 ms per loop (mean ± std. dev. of 7 runs, 10 loops each)\n",
      "1.13 ms ± 168 µs per loop (mean ± std. dev. of 7 runs, 1,000 loops each)\n"
     ]
    }
   ],
   "source": [
    "B = np.random.rand(1000000)\n",
    "%timeit sum(B)\n",
    "%timeit np.sum(B)"
   ]
  },
  {
   "cell_type": "code",
   "execution_count": null,
   "id": "09924280",
   "metadata": {},
   "outputs": [],
   "source": []
  }
 ],
 "metadata": {
  "kernelspec": {
   "display_name": "Python 3 (ipykernel)",
   "language": "python",
   "name": "python3"
  },
  "language_info": {
   "codemirror_mode": {
    "name": "ipython",
    "version": 3
   },
   "file_extension": ".py",
   "mimetype": "text/x-python",
   "name": "python",
   "nbconvert_exporter": "python",
   "pygments_lexer": "ipython3",
   "version": "3.11.5"
  }
 },
 "nbformat": 4,
 "nbformat_minor": 5
}
